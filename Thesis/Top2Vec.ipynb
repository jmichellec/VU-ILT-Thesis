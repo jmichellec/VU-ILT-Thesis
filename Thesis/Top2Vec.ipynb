{
 "cells": [
  {
   "cell_type": "code",
   "execution_count": null,
   "id": "a100a89c",
   "metadata": {
    "colab": {
     "base_uri": "https://localhost:8080/"
    },
    "id": "f6739615",
    "outputId": "a1e957ec-a102-4564-c669-da776c27ace3"
   },
   "outputs": [],
   "source": [
    "import pandas as pd\n",
    "import numpy as np\n",
    "from top2vec import Top2Vec\n",
    "from gensim.utils import simple_preprocess\n",
    "from gensim.models import CoherenceModel\n",
    "from gensim.corpora import Dictionary\n",
    "import pickle\n",
    "import gensim.corpora as corpora\n",
    "from gensim.models import CoherenceModel"
   ]
  },
  {
   "cell_type": "code",
   "execution_count": null,
   "id": "1a0fafe9",
   "metadata": {
    "colab": {
     "base_uri": "https://localhost:8080/",
     "height": 1000
    },
    "id": "c2f60df1",
    "outputId": "b248404a-48a8-4ec5-c0ad-75139d6bca90"
   },
   "outputs": [],
   "source": [
    "df = pd.read_csv('data/complete-clean-preprocessed-data-2010-2020.tsv', sep='\\t')\n",
    "# df"
   ]
  },
  {
   "cell_type": "code",
   "execution_count": null,
   "id": "9295bb30",
   "metadata": {},
   "outputs": [],
   "source": [
    "def prep_topic_words(topic_model, df):\n",
    "    tokens = [list(simple_preprocess(str(s), deacc=True)) for s in df['preprocessed_hlead']]\n",
    "    dictionary = corpora.Dictionary(tokens)\n",
    "    corpus = [dictionary.doc2bow(text) for text in tokens]\n",
    "    topic_words, _, _ = model.get_topics()\n",
    "\n",
    "    return topic_words, tokens, corpus, dictionary\n",
    "\n",
    "def evaluation(topic_words, data, dictionary, corpus):\n",
    "    coherence_model = CoherenceModel(topics= [s.tolist() for s in topic_words], texts=data, dictionary=dictionary, coherence='c_v')\n",
    "    coherence = coherence_model.get_coherence()\n",
    "#     perplexity = model.log_perplexity(corpus)\n",
    "    return coherence#, perplexity\n",
    "\n",
    "def hyperparameter_tuning(df, name):\n",
    "    # Change depending on models one wants to check\n",
    "    umaps = [{'n_neighbors': 5, 'n_components': 5, 'metric': 'cosine', 'low_memory': False, 'random_state': 42},\n",
    "             {'n_neighbors': 10, 'n_components': 5, 'metric': 'cosine', 'low_memory': False, 'random_state': 42},\n",
    "             {'n_neighbors': 15, 'n_components': 5, 'metric': 'cosine', 'low_memory': False, 'random_state': 42},\n",
    "             {'n_neighbors': 5, 'n_components': 10, 'metric': 'cosine', 'low_memory': False, 'random_state': 42},\n",
    "             {'n_neighbors': 10, 'n_components': 10, 'metric': 'cosine', 'low_memory': False, 'random_state': 42},\n",
    "             {'n_neighbors': 15, 'n_components': 10, 'metric': 'cosine', 'low_memory': False, 'random_state': 42},\n",
    "             ]\n",
    "    coherences = []\n",
    "    models = []\n",
    "#     perplexities = []\n",
    "    num = 0\n",
    "    for umap in umaps:\n",
    "        model = Top2Vec(df['preprocessed_hlead'].tolist(), umap_args=umap)\n",
    "        models.append(model)\n",
    "        topic_words, tokens, corpus, dictionary = prep_topic_words(model, df)\n",
    "        coherence = evaluation(topic_words, tokens, dictionary, corpus)\n",
    "        coherences.append(coherence)\n",
    "#         perplexities.append(perplexity)\n",
    "        print(\"Finished evaluating model \" + str(num))\n",
    "        path = 'models/' + name + '_' + str(num) + '.pkl'\n",
    "        pickle.dump(model, open(path, 'wb'))\n",
    "        num += 1\n",
    "    return coherences, models"
   ]
  },
  {
   "cell_type": "code",
   "execution_count": null,
   "id": "168f75e7",
   "metadata": {},
   "outputs": [],
   "source": [
    "coherences, models = hyperparameter_tuning(df, 't2v_model')\n",
    "t2v_model = models[np.argmax(coherences)]\n",
    "# pickle.dump(model, open('models/t2v_model.pkl', 'wb'))"
   ]
  },
  {
   "cell_type": "code",
   "execution_count": null,
   "id": "4f49d434",
   "metadata": {},
   "outputs": [],
   "source": [
    "# model = Top2Vec(df['preprocessed_hlead'].tolist(), umap_args={'n_neighbors': 10, 'n_components': 5, 'metric': 'cosine', 'low_memory': False, 'random_state': 42})"
   ]
  },
  {
   "cell_type": "code",
   "execution_count": null,
   "id": "18bc70d1",
   "metadata": {},
   "outputs": [],
   "source": [
    "print(\"Number of topics detected:\", model.get_num_topics())"
   ]
  },
  {
   "cell_type": "code",
   "execution_count": null,
   "id": "bc842e3a",
   "metadata": {},
   "outputs": [],
   "source": [
    "topic_words, word_scores, topic_nums = model.get_topics()\n",
    "\n",
    "for i in range(10):\n",
    "    for j in range(10):\n",
    "        str(word_scores[i][j])+'*'+str(topic_words[i][j])"
   ]
  },
  {
   "cell_type": "code",
   "execution_count": null,
   "id": "818bd58f",
   "metadata": {},
   "outputs": [],
   "source": [
    "topic_words[0]"
   ]
  },
  {
   "cell_type": "code",
   "execution_count": null,
   "id": "916bd9e2",
   "metadata": {},
   "outputs": [],
   "source": [
    "topic_words, word_scores, topic_nums = model.get_topics()\n",
    "\n",
    "for topic in topic_nums:\n",
    "    model.generate_topic_wordcloud(topic)"
   ]
  }
 ],
 "metadata": {
  "colab": {
   "collapsed_sections": [],
   "name": "CODE.ipynb",
   "provenance": []
  },
  "kernelspec": {
   "display_name": "Python 3",
   "language": "python",
   "name": "python3"
  },
  "language_info": {
   "codemirror_mode": {
    "name": "ipython",
    "version": 3
   },
   "file_extension": ".py",
   "mimetype": "text/x-python",
   "name": "python",
   "nbconvert_exporter": "python",
   "pygments_lexer": "ipython3",
   "version": "3.7.9"
  }
 },
 "nbformat": 4,
 "nbformat_minor": 5
}
