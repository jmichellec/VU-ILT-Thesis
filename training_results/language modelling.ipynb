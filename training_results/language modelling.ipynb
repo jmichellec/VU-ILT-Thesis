{
 "cells": [
  {
   "cell_type": "code",
   "execution_count": null,
   "metadata": {},
   "outputs": [],
   "source": [
    "# Adapted HuggingFace example notebook on Github\n",
    "# https://github.com/huggingface/notebooks/blob/master/examples/language_modeling.ipynb"
   ]
  },
  {
   "cell_type": "code",
   "execution_count": 2,
   "metadata": {},
   "outputs": [],
   "source": [
    "import pandas as pd\n",
    "from sklearn.model_selection import train_test_split\n",
    "df = pd.read_csv('../Thesis/data/complete-clean-preprocessed-data-2010-2020-1.tsv', sep='\\t')\n",
    "\n",
    "\n",
    "X_train, X_test = train_test_split(df.preprocessed_hlead, test_size=0.33, random_state=42)\n",
    "X_train.to_csv('train_texts_1.txt', sep=' ', index=False)\n",
    "X_test.to_csv('test_texts_1.txt', sep=' ', index=False)"
   ]
  },
  {
   "cell_type": "code",
   "execution_count": 3,
   "metadata": {},
   "outputs": [
    {
     "name": "stderr",
     "output_type": "stream",
     "text": [
      "Using custom data configuration default-0157bbaf91f80aec\n"
     ]
    },
    {
     "name": "stdout",
     "output_type": "stream",
     "text": [
      "Downloading and preparing dataset text/default to /data/michellechan/.cache/huggingface/datasets/text/default-0157bbaf91f80aec/0.0.0/e16f44aa1b321ece1f87b07977cc5d70be93d69b20486d6dacd62e12cf25c9a5...\n"
     ]
    },
    {
     "data": {
      "application/vnd.jupyter.widget-view+json": {
       "model_id": "fa951d8cd8824fa390060235c4732fa5",
       "version_major": 2,
       "version_minor": 0
      },
      "text/plain": [
       "  0%|          | 0/2 [00:00<?, ?it/s]"
      ]
     },
     "metadata": {},
     "output_type": "display_data"
    },
    {
     "data": {
      "application/vnd.jupyter.widget-view+json": {
       "model_id": "a59541c8cdd6425f8b81142cbd62329b",
       "version_major": 2,
       "version_minor": 0
      },
      "text/plain": [
       "  0%|          | 0/2 [00:00<?, ?it/s]"
      ]
     },
     "metadata": {},
     "output_type": "display_data"
    },
    {
     "name": "stdout",
     "output_type": "stream",
     "text": [
      "Dataset text downloaded and prepared to /data/michellechan/.cache/huggingface/datasets/text/default-0157bbaf91f80aec/0.0.0/e16f44aa1b321ece1f87b07977cc5d70be93d69b20486d6dacd62e12cf25c9a5. Subsequent calls will reuse this data.\n"
     ]
    },
    {
     "data": {
      "application/vnd.jupyter.widget-view+json": {
       "model_id": "44d75721753e4a7ea1de8b6dc4e32aac",
       "version_major": 2,
       "version_minor": 0
      },
      "text/plain": [
       "  0%|          | 0/2 [00:00<?, ?it/s]"
      ]
     },
     "metadata": {},
     "output_type": "display_data"
    }
   ],
   "source": [
    "from datasets import load_dataset\n",
    "\n",
    "datasets = load_dataset(\"text\", data_files={\"train\": 'train_texts_1.txt', \"validation\": 'test_texts_1.txt'})"
   ]
  },
  {
   "cell_type": "code",
   "execution_count": 4,
   "metadata": {},
   "outputs": [
    {
     "data": {
      "text/plain": [
       "Dataset({\n",
       "    features: ['text'],\n",
       "    num_rows: 7399\n",
       "})"
      ]
     },
     "execution_count": 4,
     "metadata": {},
     "output_type": "execute_result"
    }
   ],
   "source": [
    "datasets[\"train\"]"
   ]
  },
  {
   "cell_type": "code",
   "execution_count": 5,
   "metadata": {},
   "outputs": [],
   "source": [
    "from transformers import RobertaTokenizer\n",
    "\n",
    "block_size = 128 #256\n",
    "\n",
    "tokenizer = RobertaTokenizer.from_pretrained(\"pdelobelle/robbert-v2-dutch-base\")\n",
    "\n",
    "def tokenize_function(examples, tokenizer = tokenizer):\n",
    "    return tokenizer(examples[\"text\"])\n",
    "\n",
    "def group_texts(examples, block_size = block_size):\n",
    "    # Concatenate all texts.\n",
    "    concatenated_examples = {k: sum(examples[k], []) for k in examples.keys()}\n",
    "    total_length = len(concatenated_examples[list(examples.keys())[0]])\n",
    "    # We drop the small remainder, we could add padding if the model supported it instead of this drop, you can\n",
    "        # customize this part to your needs.\n",
    "    total_length = (total_length // block_size) * block_size\n",
    "    # Split by chunks of max_len.\n",
    "    result = {\n",
    "        k: [t[i : i + block_size] for i in range(0, total_length, block_size)]\n",
    "        for k, t in concatenated_examples.items()\n",
    "    }\n",
    "    result[\"labels\"] = result[\"input_ids\"].copy()\n",
    "    return result\n",
    "\n",
    "tokenized_datasets = datasets.map(tokenize_function, batched=True, num_proc=4, remove_columns=[\"text\"])\n",
    "\n",
    "lm_datasets = tokenized_datasets.map(\n",
    "    group_texts,\n",
    "    batched=True,\n",
    "    batch_size=1000,\n",
    "    num_proc=4,\n",
    ")"
   ]
  },
  {
   "cell_type": "code",
   "execution_count": 6,
   "metadata": {},
   "outputs": [
    {
     "data": {
      "text/plain": [
       "<function __main__.group_texts(examples, block_size=128)>"
      ]
     },
     "execution_count": 6,
     "metadata": {},
     "output_type": "execute_result"
    }
   ],
   "source": [
    "group_texts"
   ]
  },
  {
   "cell_type": "code",
   "execution_count": 5,
   "metadata": {},
   "outputs": [],
   "source": [
    "from transformers import RobertaTokenizer, RobertaForMaskedLM\n",
    "\n",
    "model = RobertaForMaskedLM.from_pretrained(\"pdelobelle/robbert-v2-dutch-base\")"
   ]
  },
  {
   "cell_type": "code",
   "execution_count": 7,
   "metadata": {},
   "outputs": [],
   "source": [
    "from transformers import Trainer, TrainingArguments\n",
    "model_name = 'pdelobelle/robbert-v2-dutch-base'.split(\"/\")[-1]\n",
    "training_args = TrainingArguments(\n",
    "    output_dir=f\"{model_name}-finetuned-model_1\",\n",
    "    evaluation_strategy = \"epoch\",\n",
    "    learning_rate=2e-5,\n",
    "    weight_decay=0.01,\n",
    "    num_train_epochs=3,\n",
    "    per_gpu_train_batch_size=8,\n",
    "    save_steps=1_000,\n",
    "#     push_to_hub=True,\n",
    ")"
   ]
  },
  {
   "cell_type": "code",
   "execution_count": 8,
   "metadata": {},
   "outputs": [],
   "source": [
    "from transformers import DataCollatorForLanguageModeling\n",
    "data_collator = DataCollatorForLanguageModeling(tokenizer=tokenizer, mlm_probability=0.15)"
   ]
  },
  {
   "cell_type": "code",
   "execution_count": 9,
   "metadata": {},
   "outputs": [],
   "source": [
    "trainer = Trainer(\n",
    "    model=model,\n",
    "    args=training_args,\n",
    "    train_dataset=lm_datasets[\"train\"],\n",
    "    eval_dataset=lm_datasets[\"validation\"],\n",
    "    data_collator=data_collator,\n",
    ")"
   ]
  },
  {
   "cell_type": "code",
   "execution_count": 10,
   "metadata": {},
   "outputs": [
    {
     "name": "stderr",
     "output_type": "stream",
     "text": [
      "Using deprecated `--per_gpu_train_batch_size` argument which will be removed in a future version. Using `--per_device_train_batch_size` is preferred.\n",
      "Using deprecated `--per_gpu_train_batch_size` argument which will be removed in a future version. Using `--per_device_train_batch_size` is preferred.\n",
      "***** Running training *****\n",
      "  Num examples = 29386\n",
      "  Num Epochs = 3\n",
      "  Instantaneous batch size per device = 8\n",
      "  Total train batch size (w. parallel, distributed & accumulation) = 8\n",
      "  Gradient Accumulation steps = 1\n",
      "  Total optimization steps = 11022\n"
     ]
    },
    {
     "data": {
      "text/html": [
       "\n",
       "    <div>\n",
       "      \n",
       "      <progress value='11022' max='11022' style='width:300px; height:20px; vertical-align: middle;'></progress>\n",
       "      [11022/11022 21:12, Epoch 3/3]\n",
       "    </div>\n",
       "    <table border=\"1\" class=\"dataframe\">\n",
       "  <thead>\n",
       "    <tr style=\"text-align: left;\">\n",
       "      <th>Epoch</th>\n",
       "      <th>Training Loss</th>\n",
       "      <th>Validation Loss</th>\n",
       "    </tr>\n",
       "  </thead>\n",
       "  <tbody>\n",
       "    <tr>\n",
       "      <td>1</td>\n",
       "      <td>2.103100</td>\n",
       "      <td>1.956935</td>\n",
       "    </tr>\n",
       "    <tr>\n",
       "      <td>2</td>\n",
       "      <td>1.998300</td>\n",
       "      <td>1.898727</td>\n",
       "    </tr>\n",
       "    <tr>\n",
       "      <td>3</td>\n",
       "      <td>1.959200</td>\n",
       "      <td>1.873650</td>\n",
       "    </tr>\n",
       "  </tbody>\n",
       "</table><p>"
      ],
      "text/plain": [
       "<IPython.core.display.HTML object>"
      ]
     },
     "metadata": {},
     "output_type": "display_data"
    },
    {
     "name": "stderr",
     "output_type": "stream",
     "text": [
      "Saving model checkpoint to robbert-v2-dutch-base-finetuned-model\\checkpoint-1000\n",
      "Configuration saved in robbert-v2-dutch-base-finetuned-model\\checkpoint-1000\\config.json\n",
      "Model weights saved in robbert-v2-dutch-base-finetuned-model\\checkpoint-1000\\pytorch_model.bin\n",
      "Saving model checkpoint to robbert-v2-dutch-base-finetuned-model\\checkpoint-2000\n",
      "Configuration saved in robbert-v2-dutch-base-finetuned-model\\checkpoint-2000\\config.json\n",
      "Model weights saved in robbert-v2-dutch-base-finetuned-model\\checkpoint-2000\\pytorch_model.bin\n",
      "Saving model checkpoint to robbert-v2-dutch-base-finetuned-model\\checkpoint-3000\n",
      "Configuration saved in robbert-v2-dutch-base-finetuned-model\\checkpoint-3000\\config.json\n",
      "Model weights saved in robbert-v2-dutch-base-finetuned-model\\checkpoint-3000\\pytorch_model.bin\n",
      "***** Running Evaluation *****\n",
      "  Num examples = 14652\n",
      "  Batch size = 8\n",
      "Saving model checkpoint to robbert-v2-dutch-base-finetuned-model\\checkpoint-4000\n",
      "Configuration saved in robbert-v2-dutch-base-finetuned-model\\checkpoint-4000\\config.json\n",
      "Model weights saved in robbert-v2-dutch-base-finetuned-model\\checkpoint-4000\\pytorch_model.bin\n",
      "Saving model checkpoint to robbert-v2-dutch-base-finetuned-model\\checkpoint-5000\n",
      "Configuration saved in robbert-v2-dutch-base-finetuned-model\\checkpoint-5000\\config.json\n",
      "Model weights saved in robbert-v2-dutch-base-finetuned-model\\checkpoint-5000\\pytorch_model.bin\n",
      "Saving model checkpoint to robbert-v2-dutch-base-finetuned-model\\checkpoint-6000\n",
      "Configuration saved in robbert-v2-dutch-base-finetuned-model\\checkpoint-6000\\config.json\n",
      "Model weights saved in robbert-v2-dutch-base-finetuned-model\\checkpoint-6000\\pytorch_model.bin\n",
      "Saving model checkpoint to robbert-v2-dutch-base-finetuned-model\\checkpoint-7000\n",
      "Configuration saved in robbert-v2-dutch-base-finetuned-model\\checkpoint-7000\\config.json\n",
      "Model weights saved in robbert-v2-dutch-base-finetuned-model\\checkpoint-7000\\pytorch_model.bin\n",
      "***** Running Evaluation *****\n",
      "  Num examples = 14652\n",
      "  Batch size = 8\n",
      "Saving model checkpoint to robbert-v2-dutch-base-finetuned-model\\checkpoint-8000\n",
      "Configuration saved in robbert-v2-dutch-base-finetuned-model\\checkpoint-8000\\config.json\n",
      "Model weights saved in robbert-v2-dutch-base-finetuned-model\\checkpoint-8000\\pytorch_model.bin\n",
      "Saving model checkpoint to robbert-v2-dutch-base-finetuned-model\\checkpoint-9000\n",
      "Configuration saved in robbert-v2-dutch-base-finetuned-model\\checkpoint-9000\\config.json\n",
      "Model weights saved in robbert-v2-dutch-base-finetuned-model\\checkpoint-9000\\pytorch_model.bin\n",
      "Saving model checkpoint to robbert-v2-dutch-base-finetuned-model\\checkpoint-10000\n",
      "Configuration saved in robbert-v2-dutch-base-finetuned-model\\checkpoint-10000\\config.json\n",
      "Model weights saved in robbert-v2-dutch-base-finetuned-model\\checkpoint-10000\\pytorch_model.bin\n",
      "Saving model checkpoint to robbert-v2-dutch-base-finetuned-model\\checkpoint-11000\n",
      "Configuration saved in robbert-v2-dutch-base-finetuned-model\\checkpoint-11000\\config.json\n",
      "Model weights saved in robbert-v2-dutch-base-finetuned-model\\checkpoint-11000\\pytorch_model.bin\n",
      "***** Running Evaluation *****\n",
      "  Num examples = 14652\n",
      "  Batch size = 8\n",
      "\n",
      "\n",
      "Training completed. Do not forget to share your model on huggingface.co/models =)\n",
      "\n",
      "\n"
     ]
    },
    {
     "data": {
      "text/plain": [
       "TrainOutput(global_step=11022, training_loss=2.0629372303422273, metrics={'train_runtime': 1277.2859, 'train_samples_per_second': 69.02, 'train_steps_per_second': 8.629, 'total_flos': 5801544182956032.0, 'train_loss': 2.0629372303422273, 'epoch': 3.0})"
      ]
     },
     "execution_count": 10,
     "metadata": {},
     "output_type": "execute_result"
    }
   ],
   "source": [
    "trainer.train()"
   ]
  },
  {
   "cell_type": "code",
   "execution_count": 12,
   "metadata": {},
   "outputs": [
    {
     "name": "stderr",
     "output_type": "stream",
     "text": [
      "***** Running Evaluation *****\n",
      "  Num examples = 14652\n",
      "  Batch size = 8\n"
     ]
    },
    {
     "name": "stdout",
     "output_type": "stream",
     "text": [
      "Perplexity: 6.52\n"
     ]
    }
   ],
   "source": [
    "import math\n",
    "eval_results = trainer.evaluate()\n",
    "print(f\"Perplexity: {math.exp(eval_results['eval_loss']):.2f}\")"
   ]
  },
  {
   "cell_type": "markdown",
   "metadata": {},
   "source": [
    "# Demo"
   ]
  },
  {
   "cell_type": "code",
   "execution_count": 16,
   "metadata": {
    "collapsed": true,
    "jupyter": {
     "outputs_hidden": true
    },
    "tags": []
   },
   "outputs": [
    {
     "data": {
      "text/plain": [
       "\u001b[1;31mSignature:\u001b[0m \u001b[0mAutoModelForMaskedLM\u001b[0m\u001b[1;33m.\u001b[0m\u001b[0mfrom_pretrained\u001b[0m\u001b[1;33m(\u001b[0m\u001b[1;33m*\u001b[0m\u001b[0mmodel_args\u001b[0m\u001b[1;33m,\u001b[0m \u001b[1;33m**\u001b[0m\u001b[0mkwargs\u001b[0m\u001b[1;33m)\u001b[0m\u001b[1;33m\u001b[0m\u001b[1;33m\u001b[0m\u001b[0m\n",
       "\u001b[1;31mDocstring:\u001b[0m\n",
       "Instantiate one of the model classes of the library (with a masked language modeling head) from a pretrained model.\n",
       "\n",
       "The model class to instantiate is selected based on the :obj:`model_type` property of the config object (either\n",
       "passed as an argument or loaded from :obj:`pretrained_model_name_or_path` if possible), or when it's missing,\n",
       "by falling back to using pattern matching on :obj:`pretrained_model_name_or_path`:\n",
       "\n",
       "    - **albert** -- :class:`~transformers.AlbertForMaskedLM` (ALBERT model)\n",
       "    - **bart** -- :class:`~transformers.BartForConditionalGeneration` (BART model)\n",
       "    - **bert** -- :class:`~transformers.BertForMaskedLM` (BERT model)\n",
       "    - **big_bird** -- :class:`~transformers.BigBirdForMaskedLM` (BigBird model)\n",
       "    - **camembert** -- :class:`~transformers.CamembertForMaskedLM` (CamemBERT model)\n",
       "    - **convbert** -- :class:`~transformers.ConvBertForMaskedLM` (ConvBERT model)\n",
       "    - **deberta** -- :class:`~transformers.DebertaForMaskedLM` (DeBERTa model)\n",
       "    - **deberta-v2** -- :class:`~transformers.DebertaV2ForMaskedLM` (DeBERTa-v2 model)\n",
       "    - **distilbert** -- :class:`~transformers.DistilBertForMaskedLM` (DistilBERT model)\n",
       "    - **electra** -- :class:`~transformers.ElectraForMaskedLM` (ELECTRA model)\n",
       "    - **flaubert** -- :class:`~transformers.FlaubertWithLMHeadModel` (FlauBERT model)\n",
       "    - **fnet** -- :class:`~transformers.FNetForMaskedLM` (FNet model)\n",
       "    - **funnel** -- :class:`~transformers.FunnelForMaskedLM` (Funnel Transformer model)\n",
       "    - **ibert** -- :class:`~transformers.IBertForMaskedLM` (I-BERT model)\n",
       "    - **layoutlm** -- :class:`~transformers.LayoutLMForMaskedLM` (LayoutLM model)\n",
       "    - **longformer** -- :class:`~transformers.LongformerForMaskedLM` (Longformer model)\n",
       "    - **mbart** -- :class:`~transformers.MBartForConditionalGeneration` (mBART model)\n",
       "    - **megatron-bert** -- :class:`~transformers.MegatronBertForMaskedLM` (MegatronBert model)\n",
       "    - **mobilebert** -- :class:`~transformers.MobileBertForMaskedLM` (MobileBERT model)\n",
       "    - **mpnet** -- :class:`~transformers.MPNetForMaskedLM` (MPNet model)\n",
       "    - **reformer** -- :class:`~transformers.ReformerForMaskedLM` (Reformer model)\n",
       "    - **rembert** -- :class:`~transformers.RemBertForMaskedLM` (RemBERT model)\n",
       "    - **roberta** -- :class:`~transformers.RobertaForMaskedLM` (RoBERTa model)\n",
       "    - **roformer** -- :class:`~transformers.RoFormerForMaskedLM` (RoFormer model)\n",
       "    - **squeezebert** -- :class:`~transformers.SqueezeBertForMaskedLM` (SqueezeBERT model)\n",
       "    - **tapas** -- :class:`~transformers.TapasForMaskedLM` (TAPAS model)\n",
       "    - **wav2vec2** -- :class:`~transformers.Wav2Vec2ForMaskedLM` (Wav2Vec2 model)\n",
       "    - **xlm** -- :class:`~transformers.XLMWithLMHeadModel` (XLM model)\n",
       "    - **xlm-roberta** -- :class:`~transformers.XLMRobertaForMaskedLM` (XLM-RoBERTa model)\n",
       "\n",
       "The model is set in evaluation mode by default using ``model.eval()`` (so for instance, dropout modules are\n",
       "deactivated). To train the model, you should first set it back in training mode with ``model.train()``\n",
       "\n",
       "Args:\n",
       "    pretrained_model_name_or_path (:obj:`str` or :obj:`os.PathLike`):\n",
       "        Can be either:\n",
       "\n",
       "            - A string, the `model id` of a pretrained model hosted inside a model repo on huggingface.co.\n",
       "              Valid model ids can be located at the root-level, like ``bert-base-uncased``, or namespaced under\n",
       "              a user or organization name, like ``dbmdz/bert-base-german-cased``.\n",
       "            - A path to a `directory` containing model weights saved using\n",
       "              :func:`~transformers.PreTrainedModel.save_pretrained`, e.g., ``./my_model_directory/``.\n",
       "            - A path or url to a `tensorflow index checkpoint file` (e.g, ``./tf_model/model.ckpt.index``). In\n",
       "              this case, ``from_tf`` should be set to :obj:`True` and a configuration object should be provided\n",
       "              as ``config`` argument. This loading path is slower than converting the TensorFlow checkpoint in\n",
       "              a PyTorch model using the provided conversion scripts and loading the PyTorch model afterwards.\n",
       "    model_args (additional positional arguments, `optional`):\n",
       "        Will be passed along to the underlying model ``__init__()`` method.\n",
       "    config (:class:`~transformers.PretrainedConfig`, `optional`):\n",
       "        Configuration for the model to use instead of an automatically loaded configuration. Configuration can\n",
       "        be automatically loaded when:\n",
       "\n",
       "            - The model is a model provided by the library (loaded with the `model id` string of a pretrained\n",
       "              model).\n",
       "            - The model was saved using :meth:`~transformers.PreTrainedModel.save_pretrained` and is reloaded\n",
       "              by supplying the save directory.\n",
       "            - The model is loaded by supplying a local directory as ``pretrained_model_name_or_path`` and a\n",
       "              configuration JSON file named `config.json` is found in the directory.\n",
       "    state_dict (`Dict[str, torch.Tensor]`, `optional`):\n",
       "        A state dictionary to use instead of a state dictionary loaded from saved weights file.\n",
       "\n",
       "        This option can be used if you want to create a model from a pretrained configuration but load your own\n",
       "        weights. In this case though, you should check if using\n",
       "        :func:`~transformers.PreTrainedModel.save_pretrained` and\n",
       "        :func:`~transformers.PreTrainedModel.from_pretrained` is not a simpler option.\n",
       "    cache_dir (:obj:`str` or :obj:`os.PathLike`, `optional`):\n",
       "        Path to a directory in which a downloaded pretrained model configuration should be cached if the\n",
       "        standard cache should not be used.\n",
       "    from_tf (:obj:`bool`, `optional`, defaults to :obj:`False`):\n",
       "        Load the model weights from a TensorFlow checkpoint save file (see docstring of\n",
       "        ``pretrained_model_name_or_path`` argument).\n",
       "    force_download (:obj:`bool`, `optional`, defaults to :obj:`False`):\n",
       "        Whether or not to force the (re-)download of the model weights and configuration files, overriding the\n",
       "        cached versions if they exist.\n",
       "    resume_download (:obj:`bool`, `optional`, defaults to :obj:`False`):\n",
       "        Whether or not to delete incompletely received files. Will attempt to resume the download if such a\n",
       "        file exists.\n",
       "    proxies (:obj:`Dict[str, str]`, `optional`):\n",
       "        A dictionary of proxy servers to use by protocol or endpoint, e.g., :obj:`{'http': 'foo.bar:3128',\n",
       "        'http://hostname': 'foo.bar:4012'}`. The proxies are used on each request.\n",
       "    output_loading_info(:obj:`bool`, `optional`, defaults to :obj:`False`):\n",
       "        Whether ot not to also return a dictionary containing missing keys, unexpected keys and error messages.\n",
       "    local_files_only(:obj:`bool`, `optional`, defaults to :obj:`False`):\n",
       "        Whether or not to only look at local files (e.g., not try downloading the model).\n",
       "    revision(:obj:`str`, `optional`, defaults to :obj:`\"main\"`):\n",
       "        The specific model version to use. It can be a branch name, a tag name, or a commit id, since we use a\n",
       "        git-based system for storing models and other artifacts on huggingface.co, so ``revision`` can be any\n",
       "        identifier allowed by git.\n",
       "    trust_remote_code (:obj:`bool`, `optional`, defaults to :obj:`False`):\n",
       "        Whether or not to allow for custom models defined on the Hub in their own modeling files. This option\n",
       "        should only be set to :obj:`True` for repositories you trust and in which you have read the code, as it\n",
       "        will execute code present on the Hub on your local machine.\n",
       "    kwargs (additional keyword arguments, `optional`):\n",
       "        Can be used to update the configuration object (after it being loaded) and initiate the model (e.g.,\n",
       "        :obj:`output_attentions=True`). Behaves differently depending on whether a ``config`` is provided or\n",
       "        automatically loaded:\n",
       "\n",
       "            - If a configuration is provided with ``config``, ``**kwargs`` will be directly passed to the\n",
       "              underlying model's ``__init__`` method (we assume all relevant updates to the configuration have\n",
       "              already been done)\n",
       "            - If a configuration is not provided, ``kwargs`` will be first passed to the configuration class\n",
       "              initialization function (:func:`~transformers.PretrainedConfig.from_pretrained`). Each key of\n",
       "              ``kwargs`` that corresponds to a configuration attribute will be used to override said attribute\n",
       "              with the supplied ``kwargs`` value. Remaining keys that do not correspond to any configuration\n",
       "              attribute will be passed to the underlying model's ``__init__`` function.\n",
       "\n",
       "Examples::\n",
       "\n",
       "    >>> from transformers import AutoConfig, AutoModelForMaskedLM\n",
       "\n",
       "    >>> # Download model and configuration from huggingface.co and cache.\n",
       "    >>> model = AutoModelForMaskedLM.from_pretrained('bert-base-cased')\n",
       "\n",
       "    >>> # Update configuration during loading\n",
       "    >>> model = AutoModelForMaskedLM.from_pretrained('bert-base-cased', output_attentions=True)\n",
       "    >>> model.config.output_attentions\n",
       "    True\n",
       "\n",
       "    >>> # Loading from a TF checkpoint file instead of a PyTorch model (slower)\n",
       "    >>> config = AutoConfig.from_pretrained('./tf_model/bert_tf_model_config.json')\n",
       "    >>> model = AutoModelForMaskedLM.from_pretrained('./tf_model/bert_tf_checkpoint.ckpt.index', from_tf=True, config=config)\n",
       "\u001b[1;31mFile:\u001b[0m      c:\\users\\kbrekelm\\anaconda3\\envs\\transformers\\lib\\site-packages\\transformers\\models\\auto\\auto_factory.py\n",
       "\u001b[1;31mType:\u001b[0m      method\n"
      ]
     },
     "metadata": {},
     "output_type": "display_data"
    }
   ],
   "source": [
    "?AutoModelForMaskedLM.from_pretrained"
   ]
  },
  {
   "cell_type": "code",
   "execution_count": 4,
   "metadata": {
    "collapsed": true,
    "jupyter": {
     "outputs_hidden": true
    },
    "tags": []
   },
   "outputs": [],
   "source": [
    "from transformers import AutoModelForMaskedLM, AutoTokenizer\n",
    "from transformers import RobertaTokenizer\n",
    "#import torch\n",
    "\n",
    "#fine-tuned model\n",
    "tokenizer = RobertaTokenizer.from_pretrained(\"pdelobelle/robbert-v2-dutch-base\")\n",
    "#trained_model = AutoModelForMaskedLM.from_pretrained(os.path.join(data_dir, \"roberta_model_tf_idf_tokens\"))\n",
    "trained_model = AutoModelForMaskedLM.from_pretrained(\"../Thesis/robbert-v2-dutch-base-finetuned-model/checkpoint-11000\")\n",
    "vanilla_model = AutoModelForMaskedLM.from_pretrained(\"pdelobelle/robbert-v2-dutch-base\")\n"
   ]
  },
  {
   "cell_type": "code",
   "execution_count": 15,
   "metadata": {},
   "outputs": [
    {
     "name": "stdout",
     "output_type": "stream",
     "text": [
      "Pfas is aangetroffen in   Groningen.\n",
      "Pfas is aangetroffen in   Nederland.\n",
      "Pfas is aangetroffen in   Amsterdam.\n",
      "Pfas is aangetroffen in   Leiden.\n",
      "Pfas is aangetroffen in   Rotterdam.\n",
      "Pfas is aangetroffen in   Utrecht.\n",
      "Pfas is aangetroffen in   Canada.\n",
      "Pfas is aangetroffen in   Zeeland.\n",
      "Pfas is aangetroffen in   Duitsland.\n",
      "Pfas is aangetroffen in   Suriname.\n",
      "\n",
      "Pfas is aangetroffen in   groningen.\n",
      "Pfas is aangetroffen in   duitsland.\n",
      "Pfas is aangetroffen in   nederland.\n",
      "Pfas is aangetroffen in   zwolle.\n",
      "Pfas is aangetroffen in   rotterdam.\n",
      "Pfas is aangetroffen in   tuinen.\n",
      "Pfas is aangetroffen in   2016.\n",
      "Pfas is aangetroffen in   nijmegen.\n",
      "Pfas is aangetroffen in   2011.\n",
      "Pfas is aangetroffen in   amsterdam.\n",
      "\n"
     ]
    }
   ],
   "source": [
    "import torch\n",
    "#sequence = f\"Distilled models are smaller than the models they mimic. Using them instead of the large versions would help {tokenizer.mask_token} our carbon footprint.\"\n",
    "sequence = f\"Pfas is aangetroffen in  {tokenizer.mask_token}.\"\n",
    "\n",
    "input = tokenizer.encode(sequence, return_tensors=\"pt\")\n",
    "mask_token_index = torch.where(input == tokenizer.mask_token_id)[1]\n",
    "for model in [vanilla_model, trained_model]:\n",
    "    token_logits = model(input)[0]\n",
    "    mask_token_logits = token_logits[0, mask_token_index, :]\n",
    "\n",
    "    top_5_tokens = torch.topk(mask_token_logits, 10, dim=1).indices[0].tolist()\n",
    "\n",
    "    for token in top_5_tokens:\n",
    "        print(sequence.replace(tokenizer.mask_token, tokenizer.decode([token])))\n",
    "    print()\n"
   ]
  }
 ],
 "metadata": {
  "kernelspec": {
   "display_name": "Python [conda env:.conda-new]",
   "language": "python",
   "name": "conda-env-.conda-new-py"
  },
  "language_info": {
   "codemirror_mode": {
    "name": "ipython",
    "version": 3
   },
   "file_extension": ".py",
   "mimetype": "text/x-python",
   "name": "python",
   "nbconvert_exporter": "python",
   "pygments_lexer": "ipython3",
   "version": "3.9.7"
  }
 },
 "nbformat": 4,
 "nbformat_minor": 4
}
